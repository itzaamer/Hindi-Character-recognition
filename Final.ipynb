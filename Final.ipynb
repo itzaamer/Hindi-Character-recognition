{
  "nbformat": 4,
  "nbformat_minor": 0,
  "metadata": {
    "colab": {
      "name": "Final.ipynb",
      "provenance": [],
      "collapsed_sections": [],
      "authorship_tag": "ABX9TyO+TVrPuQqAGGf36mAQMilK",
      "include_colab_link": true
    },
    "kernelspec": {
      "name": "python3",
      "display_name": "Python 3"
    },
    "language_info": {
      "name": "python"
    }
  },
  "cells": [
    {
      "cell_type": "markdown",
      "metadata": {
        "id": "view-in-github",
        "colab_type": "text"
      },
      "source": [
        "<a href=\"https://colab.research.google.com/github/itzaamer/Hindi-Character-recognition/blob/main/Final.ipynb\" target=\"_parent\"><img src=\"https://colab.research.google.com/assets/colab-badge.svg\" alt=\"Open In Colab\"/></a>"
      ]
    },
    {
      "cell_type": "code",
      "execution_count": 3,
      "metadata": {
        "colab": {
          "base_uri": "https://localhost:8080/"
        },
        "id": "soPtBv145Yi8",
        "outputId": "55548df5-202b-490b-ad16-21fcab06b03f"
      },
      "outputs": [
        {
          "output_type": "stream",
          "name": "stdout",
          "text": [
            "Drive already mounted at /content/drive; to attempt to forcibly remount, call drive.mount(\"/content/drive\", force_remount=True).\n"
          ]
        }
      ],
      "source": [
        "from google.colab import drive\n",
        "drive.mount('/content/drive')"
      ]
    },
    {
      "cell_type": "code",
      "source": [
        "import tensorflow as tf\n",
        "import os\n",
        "import numpy as np\n",
        "import pandas as pd\n",
        "from keras.preprocessing.image import ImageDataGenerator\n",
        "from matplotlib import pyplot\n",
        "import seaborn as sns\n",
        "import matplotlib.pyplot as plt\n",
        "import os\n",
        "from os import listdir\n",
        "import cv2\n",
        "from sklearn.model_selection import train_test_split\n",
        "import keras"
      ],
      "metadata": {
        "id": "szeht9qhqWgc"
      },
      "execution_count": 4,
      "outputs": []
    },
    {
      "cell_type": "code",
      "source": [
        "import pickle\n",
        "from pickle import load\n",
        "from keras.preprocessing.image import img_to_array\n",
        "from keras.models import load_model"
      ],
      "metadata": {
        "id": "Psv4rPBY-Pk5"
      },
      "execution_count": 5,
      "outputs": []
    },
    {
      "cell_type": "markdown",
      "source": [
        "<h1>Function-1\n",
        "\n",
        "1. Should include entire pipeline, from data preprocessing to making final predictions.\n",
        "2. It should take in raw data as input.\n",
        "3. It should return predictions for your input. Here the input can be a single point or a set of points.\n",
        "       def final_fun_1(X):\n",
        "          .....\n",
        "          .....\n",
        "          .....\n",
        "          you will use the best model that you found out with your experiments\n",
        "          return predictions made on X ( Raw Data)"
      ],
      "metadata": {
        "id": "M55-hANlNlsP"
      }
    },
    {
      "cell_type": "code",
      "source": [
        "def final_fun_1(input):\n",
        "  \"\"\"this function predicts the final o/p class label\"\"\"  \n",
        "  \"\"\"Load the Model \"\"\"\n",
        "  model = tf.keras.models.load_model(\"/content/drive/MyDrive/case study -2/HindiModel1.h5\")\n",
        "  output = model.predict(input)\n",
        "  output = np.argmax(output, axis=1)\n",
        "  if output==0:\n",
        "    print(\"character is ञ\")\n",
        "  elif output==1:\n",
        "    print(\"character is ट\")\n",
        "  elif output==2:\n",
        "    print(\"character is ठ\")\n",
        "  elif output==3:\n",
        "    print(\"character is ड\")\n",
        "  elif output==4:\n",
        "    print(\"character is ढ\")\n",
        "  elif output==5:\n",
        "    print(\"character is ण\")\n",
        "  elif output==6:\n",
        "    print(\"character is त\")\n",
        "  elif output==7:\n",
        "    print(\"character is थ\")\n",
        "  elif output==8:\n",
        "    print(\"character is द\")\n",
        "  elif output==9:\n",
        "    print(\"character is ध\")\n",
        "  elif output==10:\n",
        "    print(\"character is क\")\n",
        "  elif output==11:\n",
        "    print(\"character is न\")\n",
        "  elif output==12:\n",
        "    print(\"character is प\")\n",
        "  elif output==13:\n",
        "    print(\"character is फ\")\n",
        "  elif output==14:\n",
        "    print(\"character is ब\")\n",
        "  elif output==15:\n",
        "    print(\"character is भ\")\n",
        "  elif output==16:\n",
        "    print(\"character is म\")\n",
        "  elif output==17:\n",
        "    print(\"character is य\")\n",
        "  elif output==18:\n",
        "    print(\"character is र\")\n",
        "  elif output==19:\n",
        "    print(\"character is ल\")\n",
        "  elif output==20:\n",
        "    print(\"character is व\")\n",
        "  elif output==21:\n",
        "    print(\"character is ख\")\n",
        "  elif output==22:\n",
        "    print(\"character is श\")\n",
        "  elif output==23:\n",
        "    print(\"character is ष\")\n",
        "  elif output==24:\n",
        "    print(\"character is स\")\n",
        "  elif output==25:\n",
        "    print(\"character is ह\")\n",
        "  elif output==26:\n",
        "    print(\"character is क्ष\")\n",
        "  elif output==27:\n",
        "    print(\"character is त्र\")\n",
        "  elif output==28:\n",
        "    print(\"character is ज्ञ\")\n",
        "  elif output==29:\n",
        "    print(\"character is ग\")\n",
        "  elif output==30:\n",
        "    print(\"character is घ\")\n",
        "  elif output==31:\n",
        "    print(\"character is ङ\")\n",
        "  elif output==32:\n",
        "    print(\"character is च\")\n",
        "  elif output==33:\n",
        "    print(\"character is छ\")\n",
        "  elif output==34:\n",
        "    print(\"character is ज\")\n",
        "  elif output==35:\n",
        "    print(\"character is झ\")\n",
        "  elif output==36:\n",
        "    print(\"character is ०\")\n",
        "  elif output==37:\n",
        "    print(\"character is १\")\n",
        "  elif output==38:\n",
        "    print(\"character is २\")\n",
        "  elif output==39:\n",
        "    print(\"character is ३\")  \n",
        "  elif output==40:\n",
        "    print(\"character is ४\")\n",
        "  elif output==41:\n",
        "    print(\"character is ५\")\n",
        "  elif output==42:\n",
        "    print(\"character is ६\")\n",
        "  elif output==43:\n",
        "    print(\"character is ७\")\n",
        "  elif output==44:\n",
        "    print(\"character is ८\")\n",
        "  elif output==45:\n",
        "    print(\"character is ९\")\n",
        "\n",
        "    return output "
      ],
      "metadata": {
        "id": "kaRq2HMD82v_"
      },
      "execution_count": 7,
      "outputs": []
    },
    {
      "cell_type": "code",
      "source": [
        "input = pickle.load(open(\"/content/drive/MyDrive/case study -2/X_test1.pickle\", \"rb\"))\n",
        "test1=final_fun_1(input[:1])"
      ],
      "metadata": {
        "id": "qXjNovGp_MYH",
        "colab": {
          "base_uri": "https://localhost:8080/"
        },
        "outputId": "867260fb-cb9c-4fe3-a738-72f123c9bfeb"
      },
      "execution_count": 11,
      "outputs": [
        {
          "output_type": "stream",
          "name": "stdout",
          "text": [
            "character is ढ\n"
          ]
        }
      ]
    },
    {
      "cell_type": "code",
      "source": [
        "plt.imshow(input[:1].reshape(32, 32), cmap='gray')"
      ],
      "metadata": {
        "colab": {
          "base_uri": "https://localhost:8080/",
          "height": 283
        },
        "id": "Ppi48H7iPeZN",
        "outputId": "273cfbb8-05e8-4caa-f3d6-e35d6cfa049b"
      },
      "execution_count": 12,
      "outputs": [
        {
          "output_type": "execute_result",
          "data": {
            "text/plain": [
              "<matplotlib.image.AxesImage at 0x7fe68beaa250>"
            ]
          },
          "metadata": {},
          "execution_count": 12
        },
        {
          "output_type": "display_data",
          "data": {
            "text/plain": [
              "<Figure size 432x288 with 1 Axes>"
            ],
            "image/png": "[encoded data removed]"
          },
          "metadata": {
            "needs_background": "light"
          }
        }
      ]
    },
    {
      "cell_type": "markdown",
      "source": [
        "<h1>Function-2\n",
        "\n",
        "1. Should include entire pipeline, from data preprocessing to making final predictions.\n",
        "2. It should take in raw data as input along with its target values.\n",
        "3. It should return the metric value that you are judging your models on.\n",
        "          def final_fun_2(X,Y):\n",
        "              .....\n",
        "              .....\n",
        "              .....\n",
        "              you will use the best model that you found out with your experiments\n",
        "             return final_metric computed on X ( Raw Data) and Y (target variable)"
      ],
      "metadata": {
        "id": "hLXpvi_mT2EH"
      }
    },
    {
      "cell_type": "code",
      "source": [
        "def final_fun_2(X_train,X_test,y_train,y_test):\n",
        "    '''this function calculates the performance metric for given train and test data'''\n",
        "    \n",
        "    \"\"\"Load the Model \"\"\"\n",
        "    model = tf.keras.models.load_model(\"/content/drive/MyDrive/case study -2/HindiModel1.h5\")\n",
        "    score = model.evaluate(X_test, y_test, verbose=0)\n",
        "    print('Test loss:', score[0])\n",
        "    print('Test accuracy:', score[1])    \n",
        "    return score"
      ],
      "metadata": {
        "id": "g9Ss8RnYXBpM"
      },
      "execution_count": null,
      "outputs": []
    },
    {
      "cell_type": "code",
      "source": [
        "input = pickle.load(open(\"/content/drive/MyDrive/case study -2/X_test1.pickle\", \"rb\"))\n",
        "test1=final_fun_1(input)"
      ],
      "metadata": {
        "id": "EJp9QuvfbCqD"
      },
      "execution_count": null,
      "outputs": []
    },
    {
      "cell_type": "code",
      "source": [
        "data = pickle.load(open(\"/content/drive/MyDrive/case study -2/X_test1.pickle\", \"rb\"))\n",
        "# splitting the samples into training and testing sets so that we cross validate our results\n",
        "X_train, X_test, y_train, y_test = train_test_split(data,test1,test_size = .2)\n",
        "print(X_train.shape,X_test.shape,y_train.shape,y_test.shape)\n",
        "final_fun_2(X_train,X_test,y_train,y_test)"
      ],
      "metadata": {
        "colab": {
          "base_uri": "https://localhost:8080/"
        },
        "id": "WWG_EukuZxQ4",
        "outputId": "d217e1a2-ddc8-4db8-a173-09e42c45ff72"
      },
      "execution_count": null,
      "outputs": [
        {
          "output_type": "stream",
          "name": "stdout",
          "text": [
            "(12512, 32, 32, 1) (3128, 32, 32, 1) (12512, 46) (3128, 46)\n",
            "Test loss: 0.12256262451410294\n",
            "Test accuracy: 1.0\n"
          ]
        },
        {
          "output_type": "execute_result",
          "data": {
            "text/plain": [
              "[0.12256262451410294, 1.0]"
            ]
          },
          "metadata": {},
          "execution_count": 72
        }
      ]
    }
  ]
}